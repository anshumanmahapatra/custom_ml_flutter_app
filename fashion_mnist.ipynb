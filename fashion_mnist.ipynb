{
  "nbformat": 4,
  "nbformat_minor": 0,
  "metadata": {
    "colab": {
      "name": "fashion_mnist.ipynb",
      "provenance": []
    },
    "kernelspec": {
      "name": "python3",
      "display_name": "Python 3"
    },
    "language_info": {
      "name": "python"
    }
  },
  "cells": [
    {
      "cell_type": "code",
      "metadata": {
        "id": "Cd4CnyL9UC3s"
      },
      "source": [
        "import os\n",
        "import tensorflow as tf\n",
        "from tensorflow import keras\n",
        "import numpy as np\n",
        "import matplotlib.pyplot as plt\n",
        "from tensorflow.keras.layers import Flatten\n",
        "from tensorflow.keras.layers import Dense\n",
        "from tensorflow.keras.losses import SparseCategoricalCrossentropy\n",
        "from sklearn.metrics import accuracy_score"
      ],
      "execution_count": 1,
      "outputs": []
    },
    {
      "cell_type": "code",
      "metadata": {
        "colab": {
          "base_uri": "https://localhost:8080/"
        },
        "id": "CnLdneBwUacD",
        "outputId": "996fedbc-a864-4771-cfdd-c388d5715cb7"
      },
      "source": [
        "fashion_mnist = keras.datasets.fashion_mnist\n",
        "(train_images, train_labels), (test_images, test_labels) = fashion_mnist.load_data()"
      ],
      "execution_count": 2,
      "outputs": [
        {
          "output_type": "stream",
          "text": [
            "Downloading data from https://storage.googleapis.com/tensorflow/tf-keras-datasets/train-labels-idx1-ubyte.gz\n",
            "32768/29515 [=================================] - 0s 0us/step\n",
            "40960/29515 [=========================================] - 0s 0us/step\n",
            "Downloading data from https://storage.googleapis.com/tensorflow/tf-keras-datasets/train-images-idx3-ubyte.gz\n",
            "26427392/26421880 [==============================] - 1s 0us/step\n",
            "26435584/26421880 [==============================] - 1s 0us/step\n",
            "Downloading data from https://storage.googleapis.com/tensorflow/tf-keras-datasets/t10k-labels-idx1-ubyte.gz\n",
            "16384/5148 [===============================================================================================] - 0s 0us/step\n",
            "Downloading data from https://storage.googleapis.com/tensorflow/tf-keras-datasets/t10k-images-idx3-ubyte.gz\n",
            "4423680/4422102 [==============================] - 0s 0us/step\n",
            "4431872/4422102 [==============================] - 0s 0us/step\n"
          ],
          "name": "stdout"
        }
      ]
    },
    {
      "cell_type": "code",
      "metadata": {
        "id": "_yO0RrEYUc2N"
      },
      "source": [
        "class_names = ['T-shirt/top', 'Trouser', 'Pullover', 'Dress', 'Coat',\n",
        "               'Sandal', 'Shirt', 'Sneaker', 'Bag', 'Ankle boot']"
      ],
      "execution_count": 3,
      "outputs": []
    },
    {
      "cell_type": "code",
      "metadata": {
        "id": "HTLdFOtjUgk8"
      },
      "source": [
        "\n",
        "train_images = train_images / 255.0\n",
        "test_images = test_images / 255.0"
      ],
      "execution_count": 4,
      "outputs": []
    },
    {
      "cell_type": "code",
      "metadata": {
        "id": "eLBc8r5pUtBo"
      },
      "source": [
        "\n",
        "model = keras.Sequential([\n",
        "    Flatten(input_shape=(28, 28)),\n",
        "    Dense(128, activation='relu'),\n",
        "    Dense(10)\n",
        "])"
      ],
      "execution_count": 5,
      "outputs": []
    },
    {
      "cell_type": "code",
      "metadata": {
        "id": "dJaOQXv9UxBI"
      },
      "source": [
        "\n",
        "model.compile(optimizer='adam',\n",
        "              loss= SparseCategoricalCrossentropy(from_logits=True),\n",
        "              metrics=['accuracy'])"
      ],
      "execution_count": 6,
      "outputs": []
    },
    {
      "cell_type": "code",
      "metadata": {
        "colab": {
          "base_uri": "https://localhost:8080/"
        },
        "id": "hM_fmsydU0AM",
        "outputId": "62e81daf-efa7-4594-fb1a-aa704777f68c"
      },
      "source": [
        "\n",
        "model.fit(train_images, train_labels, epochs=100)"
      ],
      "execution_count": 7,
      "outputs": [
        {
          "output_type": "stream",
          "text": [
            "Epoch 1/100\n",
            "1875/1875 [==============================] - 3s 1ms/step - loss: 0.5026 - accuracy: 0.8243\n",
            "Epoch 2/100\n",
            "1875/1875 [==============================] - 3s 1ms/step - loss: 0.3780 - accuracy: 0.8631\n",
            "Epoch 3/100\n",
            "1875/1875 [==============================] - 3s 1ms/step - loss: 0.3373 - accuracy: 0.8766\n",
            "Epoch 4/100\n",
            "1875/1875 [==============================] - 3s 1ms/step - loss: 0.3131 - accuracy: 0.8852\n",
            "Epoch 5/100\n",
            "1875/1875 [==============================] - 3s 1ms/step - loss: 0.2939 - accuracy: 0.8922\n",
            "Epoch 6/100\n",
            "1875/1875 [==============================] - 3s 1ms/step - loss: 0.2776 - accuracy: 0.8980\n",
            "Epoch 7/100\n",
            "1875/1875 [==============================] - 3s 1ms/step - loss: 0.2669 - accuracy: 0.9008\n",
            "Epoch 8/100\n",
            "1875/1875 [==============================] - 3s 1ms/step - loss: 0.2553 - accuracy: 0.9050\n",
            "Epoch 9/100\n",
            "1875/1875 [==============================] - 3s 1ms/step - loss: 0.2448 - accuracy: 0.9092\n",
            "Epoch 10/100\n",
            "1875/1875 [==============================] - 3s 1ms/step - loss: 0.2364 - accuracy: 0.9106\n",
            "Epoch 11/100\n",
            "1875/1875 [==============================] - 3s 1ms/step - loss: 0.2276 - accuracy: 0.9149\n",
            "Epoch 12/100\n",
            "1875/1875 [==============================] - 3s 1ms/step - loss: 0.2200 - accuracy: 0.9175\n",
            "Epoch 13/100\n",
            "1875/1875 [==============================] - 3s 1ms/step - loss: 0.2128 - accuracy: 0.9212\n",
            "Epoch 14/100\n",
            "1875/1875 [==============================] - 3s 1ms/step - loss: 0.2066 - accuracy: 0.9227\n",
            "Epoch 15/100\n",
            "1875/1875 [==============================] - 3s 1ms/step - loss: 0.2005 - accuracy: 0.9251\n",
            "Epoch 16/100\n",
            "1875/1875 [==============================] - 3s 1ms/step - loss: 0.1935 - accuracy: 0.9277\n",
            "Epoch 17/100\n",
            "1875/1875 [==============================] - 3s 1ms/step - loss: 0.1908 - accuracy: 0.9286\n",
            "Epoch 18/100\n",
            "1875/1875 [==============================] - 3s 1ms/step - loss: 0.1844 - accuracy: 0.9311\n",
            "Epoch 19/100\n",
            "1875/1875 [==============================] - 3s 1ms/step - loss: 0.1789 - accuracy: 0.9321\n",
            "Epoch 20/100\n",
            "1875/1875 [==============================] - 3s 1ms/step - loss: 0.1755 - accuracy: 0.9341\n",
            "Epoch 21/100\n",
            "1875/1875 [==============================] - 2s 1ms/step - loss: 0.1713 - accuracy: 0.9360\n",
            "Epoch 22/100\n",
            "1875/1875 [==============================] - 3s 1ms/step - loss: 0.1663 - accuracy: 0.9367\n",
            "Epoch 23/100\n",
            "1875/1875 [==============================] - 3s 1ms/step - loss: 0.1629 - accuracy: 0.9396\n",
            "Epoch 24/100\n",
            "1875/1875 [==============================] - 3s 1ms/step - loss: 0.1585 - accuracy: 0.9394\n",
            "Epoch 25/100\n",
            "1875/1875 [==============================] - 3s 1ms/step - loss: 0.1538 - accuracy: 0.9422\n",
            "Epoch 26/100\n",
            "1875/1875 [==============================] - 3s 1ms/step - loss: 0.1505 - accuracy: 0.9441\n",
            "Epoch 27/100\n",
            "1875/1875 [==============================] - 3s 1ms/step - loss: 0.1485 - accuracy: 0.9441\n",
            "Epoch 28/100\n",
            "1875/1875 [==============================] - 3s 1ms/step - loss: 0.1469 - accuracy: 0.9453\n",
            "Epoch 29/100\n",
            "1875/1875 [==============================] - 3s 1ms/step - loss: 0.1431 - accuracy: 0.9458\n",
            "Epoch 30/100\n",
            "1875/1875 [==============================] - 3s 1ms/step - loss: 0.1395 - accuracy: 0.9482\n",
            "Epoch 31/100\n",
            "1875/1875 [==============================] - 3s 1ms/step - loss: 0.1369 - accuracy: 0.9489\n",
            "Epoch 32/100\n",
            "1875/1875 [==============================] - 3s 1ms/step - loss: 0.1343 - accuracy: 0.9488\n",
            "Epoch 33/100\n",
            "1875/1875 [==============================] - 3s 2ms/step - loss: 0.1296 - accuracy: 0.9499\n",
            "Epoch 34/100\n",
            "1875/1875 [==============================] - 3s 2ms/step - loss: 0.1275 - accuracy: 0.9524\n",
            "Epoch 35/100\n",
            "1875/1875 [==============================] - 3s 2ms/step - loss: 0.1273 - accuracy: 0.9518\n",
            "Epoch 36/100\n",
            "1875/1875 [==============================] - 3s 1ms/step - loss: 0.1233 - accuracy: 0.9539\n",
            "Epoch 37/100\n",
            "1875/1875 [==============================] - 3s 1ms/step - loss: 0.1201 - accuracy: 0.9546\n",
            "Epoch 38/100\n",
            "1875/1875 [==============================] - 3s 1ms/step - loss: 0.1188 - accuracy: 0.9552\n",
            "Epoch 39/100\n",
            "1875/1875 [==============================] - 3s 1ms/step - loss: 0.1182 - accuracy: 0.9554\n",
            "Epoch 40/100\n",
            "1875/1875 [==============================] - 3s 1ms/step - loss: 0.1149 - accuracy: 0.9561\n",
            "Epoch 41/100\n",
            "1875/1875 [==============================] - 3s 1ms/step - loss: 0.1152 - accuracy: 0.9564\n",
            "Epoch 42/100\n",
            "1875/1875 [==============================] - 3s 1ms/step - loss: 0.1096 - accuracy: 0.9588\n",
            "Epoch 43/100\n",
            "1875/1875 [==============================] - 3s 1ms/step - loss: 0.1092 - accuracy: 0.9575\n",
            "Epoch 44/100\n",
            "1875/1875 [==============================] - 3s 2ms/step - loss: 0.1073 - accuracy: 0.9590\n",
            "Epoch 45/100\n",
            "1875/1875 [==============================] - 3s 1ms/step - loss: 0.1056 - accuracy: 0.9607\n",
            "Epoch 46/100\n",
            "1875/1875 [==============================] - 3s 1ms/step - loss: 0.1023 - accuracy: 0.9616\n",
            "Epoch 47/100\n",
            "1875/1875 [==============================] - 3s 1ms/step - loss: 0.1027 - accuracy: 0.9615\n",
            "Epoch 48/100\n",
            "1875/1875 [==============================] - 3s 1ms/step - loss: 0.0997 - accuracy: 0.9625\n",
            "Epoch 49/100\n",
            "1875/1875 [==============================] - 3s 1ms/step - loss: 0.0973 - accuracy: 0.9629\n",
            "Epoch 50/100\n",
            "1875/1875 [==============================] - 3s 1ms/step - loss: 0.0955 - accuracy: 0.9648\n",
            "Epoch 51/100\n",
            "1875/1875 [==============================] - 3s 1ms/step - loss: 0.0947 - accuracy: 0.9642\n",
            "Epoch 52/100\n",
            "1875/1875 [==============================] - 3s 1ms/step - loss: 0.0942 - accuracy: 0.9654\n",
            "Epoch 53/100\n",
            "1875/1875 [==============================] - 3s 1ms/step - loss: 0.0932 - accuracy: 0.9654\n",
            "Epoch 54/100\n",
            "1875/1875 [==============================] - 3s 1ms/step - loss: 0.0920 - accuracy: 0.9652\n",
            "Epoch 55/100\n",
            "1875/1875 [==============================] - 3s 1ms/step - loss: 0.0866 - accuracy: 0.9673\n",
            "Epoch 56/100\n",
            "1875/1875 [==============================] - 3s 1ms/step - loss: 0.0893 - accuracy: 0.9670\n",
            "Epoch 57/100\n",
            "1875/1875 [==============================] - 3s 1ms/step - loss: 0.0856 - accuracy: 0.9682\n",
            "Epoch 58/100\n",
            "1875/1875 [==============================] - 3s 1ms/step - loss: 0.0849 - accuracy: 0.9676\n",
            "Epoch 59/100\n",
            "1875/1875 [==============================] - 3s 1ms/step - loss: 0.0864 - accuracy: 0.9668\n",
            "Epoch 60/100\n",
            "1875/1875 [==============================] - 3s 1ms/step - loss: 0.0805 - accuracy: 0.9702\n",
            "Epoch 61/100\n",
            "1875/1875 [==============================] - 3s 1ms/step - loss: 0.0814 - accuracy: 0.9700\n",
            "Epoch 62/100\n",
            "1875/1875 [==============================] - 3s 1ms/step - loss: 0.0807 - accuracy: 0.9702\n",
            "Epoch 63/100\n",
            "1875/1875 [==============================] - 3s 1ms/step - loss: 0.0815 - accuracy: 0.9702\n",
            "Epoch 64/100\n",
            "1875/1875 [==============================] - 3s 1ms/step - loss: 0.0774 - accuracy: 0.9703\n",
            "Epoch 65/100\n",
            "1875/1875 [==============================] - 3s 1ms/step - loss: 0.0781 - accuracy: 0.9710\n",
            "Epoch 66/100\n",
            "1875/1875 [==============================] - 3s 1ms/step - loss: 0.0750 - accuracy: 0.9715\n",
            "Epoch 67/100\n",
            "1875/1875 [==============================] - 3s 1ms/step - loss: 0.0764 - accuracy: 0.9719\n",
            "Epoch 68/100\n",
            "1875/1875 [==============================] - 3s 1ms/step - loss: 0.0746 - accuracy: 0.9722\n",
            "Epoch 69/100\n",
            "1875/1875 [==============================] - 3s 1ms/step - loss: 0.0742 - accuracy: 0.9722\n",
            "Epoch 70/100\n",
            "1875/1875 [==============================] - 3s 1ms/step - loss: 0.0728 - accuracy: 0.9727\n",
            "Epoch 71/100\n",
            "1875/1875 [==============================] - 3s 1ms/step - loss: 0.0718 - accuracy: 0.9729\n",
            "Epoch 72/100\n",
            "1875/1875 [==============================] - 3s 1ms/step - loss: 0.0694 - accuracy: 0.9739\n",
            "Epoch 73/100\n",
            "1875/1875 [==============================] - 3s 1ms/step - loss: 0.0699 - accuracy: 0.9732\n",
            "Epoch 74/100\n",
            "1875/1875 [==============================] - 3s 1ms/step - loss: 0.0672 - accuracy: 0.9753\n",
            "Epoch 75/100\n",
            "1875/1875 [==============================] - 3s 1ms/step - loss: 0.0655 - accuracy: 0.9754\n",
            "Epoch 76/100\n",
            "1875/1875 [==============================] - 3s 1ms/step - loss: 0.0681 - accuracy: 0.9748\n",
            "Epoch 77/100\n",
            "1875/1875 [==============================] - 3s 1ms/step - loss: 0.0674 - accuracy: 0.9745\n",
            "Epoch 78/100\n",
            "1875/1875 [==============================] - 3s 1ms/step - loss: 0.0677 - accuracy: 0.9748\n",
            "Epoch 79/100\n",
            "1875/1875 [==============================] - 3s 1ms/step - loss: 0.0636 - accuracy: 0.9763\n",
            "Epoch 80/100\n",
            "1875/1875 [==============================] - 3s 1ms/step - loss: 0.0659 - accuracy: 0.9757\n",
            "Epoch 81/100\n",
            "1875/1875 [==============================] - 3s 1ms/step - loss: 0.0633 - accuracy: 0.9769\n",
            "Epoch 82/100\n",
            "1875/1875 [==============================] - 3s 1ms/step - loss: 0.0633 - accuracy: 0.9768\n",
            "Epoch 83/100\n",
            "1875/1875 [==============================] - 3s 1ms/step - loss: 0.0622 - accuracy: 0.9761\n",
            "Epoch 84/100\n",
            "1875/1875 [==============================] - 3s 1ms/step - loss: 0.0608 - accuracy: 0.9775\n",
            "Epoch 85/100\n",
            "1875/1875 [==============================] - 3s 1ms/step - loss: 0.0597 - accuracy: 0.9778\n",
            "Epoch 86/100\n",
            "1875/1875 [==============================] - 3s 1ms/step - loss: 0.0579 - accuracy: 0.9787\n",
            "Epoch 87/100\n",
            "1875/1875 [==============================] - 3s 1ms/step - loss: 0.0600 - accuracy: 0.9775\n",
            "Epoch 88/100\n",
            "1875/1875 [==============================] - 3s 1ms/step - loss: 0.0569 - accuracy: 0.9787\n",
            "Epoch 89/100\n",
            "1875/1875 [==============================] - 3s 1ms/step - loss: 0.0577 - accuracy: 0.9784\n",
            "Epoch 90/100\n",
            "1875/1875 [==============================] - 3s 1ms/step - loss: 0.0554 - accuracy: 0.9793\n",
            "Epoch 91/100\n",
            "1875/1875 [==============================] - 3s 1ms/step - loss: 0.0593 - accuracy: 0.9779\n",
            "Epoch 92/100\n",
            "1875/1875 [==============================] - 3s 1ms/step - loss: 0.0560 - accuracy: 0.9790\n",
            "Epoch 93/100\n",
            "1875/1875 [==============================] - 3s 1ms/step - loss: 0.0561 - accuracy: 0.9790\n",
            "Epoch 94/100\n",
            "1875/1875 [==============================] - 3s 1ms/step - loss: 0.0544 - accuracy: 0.9793\n",
            "Epoch 95/100\n",
            "1875/1875 [==============================] - 3s 1ms/step - loss: 0.0545 - accuracy: 0.9800\n",
            "Epoch 96/100\n",
            "1875/1875 [==============================] - 3s 1ms/step - loss: 0.0545 - accuracy: 0.9799\n",
            "Epoch 97/100\n",
            "1875/1875 [==============================] - 3s 1ms/step - loss: 0.0518 - accuracy: 0.9813\n",
            "Epoch 98/100\n",
            "1875/1875 [==============================] - 3s 2ms/step - loss: 0.0518 - accuracy: 0.9807\n",
            "Epoch 99/100\n",
            "1875/1875 [==============================] - 3s 2ms/step - loss: 0.0565 - accuracy: 0.9795\n",
            "Epoch 100/100\n",
            "1875/1875 [==============================] - 3s 2ms/step - loss: 0.0512 - accuracy: 0.9813\n"
          ],
          "name": "stdout"
        },
        {
          "output_type": "execute_result",
          "data": {
            "text/plain": [
              "<keras.callbacks.History at 0x7f7b80d10d90>"
            ]
          },
          "metadata": {},
          "execution_count": 7
        }
      ]
    },
    {
      "cell_type": "code",
      "metadata": {
        "id": "h_BBAUuZU3Dv"
      },
      "source": [
        "KERAS_MODEL_NAME = \"tf_model_fashion_mnist.h5\""
      ],
      "execution_count": 10,
      "outputs": []
    },
    {
      "cell_type": "code",
      "metadata": {
        "colab": {
          "base_uri": "https://localhost:8080/"
        },
        "id": "8RWhSE-KU_Sx",
        "outputId": "238a9b64-66a0-44d0-e076-c324d71b5f56"
      },
      "source": [
        "test_loss, test_acc = model.evaluate(test_images,  test_labels, verbose=2)\n",
        "print('\\nTest accuracy:', test_acc)"
      ],
      "execution_count": 13,
      "outputs": [
        {
          "output_type": "stream",
          "text": [
            "313/313 - 0s - loss: 0.8107 - accuracy: 0.8844\n",
            "\n",
            "Test accuracy: 0.8844000101089478\n"
          ],
          "name": "stdout"
        }
      ]
    },
    {
      "cell_type": "code",
      "metadata": {
        "id": "R3yXGpdbVEii"
      },
      "source": [
        "\n",
        "TF_LITE_MODEL_FILE_NAME = \"tf_lite_model.tflite\""
      ],
      "execution_count": 14,
      "outputs": []
    },
    {
      "cell_type": "code",
      "metadata": {
        "colab": {
          "base_uri": "https://localhost:8080/"
        },
        "id": "dWUHsnpwVMGL",
        "outputId": "4bc22497-8e50-4448-a85f-37b22be793b7"
      },
      "source": [
        "tf_lite_converter = tf.lite.TFLiteConverter.from_keras_model(model)\n",
        "tflite_model = tf_lite_converter.convert()"
      ],
      "execution_count": 15,
      "outputs": [
        {
          "output_type": "stream",
          "text": [
            "INFO:tensorflow:Assets written to: /tmp/tmp_nvupll0/assets\n"
          ],
          "name": "stdout"
        }
      ]
    },
    {
      "cell_type": "code",
      "metadata": {
        "colab": {
          "base_uri": "https://localhost:8080/"
        },
        "id": "Hyn8RCGaVPn-",
        "outputId": "ae7fe0f1-f332-4d00-c8aa-e894f51f9d6f"
      },
      "source": [
        "tflite_model_name = TF_LITE_MODEL_FILE_NAME\n",
        "open(tflite_model_name, \"wb\").write(tflite_model)"
      ],
      "execution_count": 16,
      "outputs": [
        {
          "output_type": "execute_result",
          "data": {
            "text/plain": [
              "408544"
            ]
          },
          "metadata": {},
          "execution_count": 16
        }
      ]
    },
    {
      "cell_type": "code",
      "metadata": {
        "colab": {
          "base_uri": "https://localhost:8080/"
        },
        "id": "QR200Tk6VdQz",
        "outputId": "5e40433c-3e7c-488b-efba-fadf47e43bcf"
      },
      "source": [
        "\n",
        "interpreter = tf.lite.Interpreter(model_path = TF_LITE_MODEL_FILE_NAME)\n",
        "input_details = interpreter.get_input_details()\n",
        "output_details = interpreter.get_output_details()\n",
        "print(\"Input Shape:\", input_details[0]['shape'])\n",
        "print(\"Input Type:\", input_details[0]['dtype'])\n",
        "print(\"Output Shape:\", output_details[0]['shape'])\n",
        "print(\"Output Type:\", output_details[0]['dtype'])"
      ],
      "execution_count": 17,
      "outputs": [
        {
          "output_type": "stream",
          "text": [
            "Input Shape: [ 1 28 28]\n",
            "Input Type: <class 'numpy.float32'>\n",
            "Output Shape: [ 1 10]\n",
            "Output Type: <class 'numpy.float32'>\n"
          ],
          "name": "stdout"
        }
      ]
    },
    {
      "cell_type": "code",
      "metadata": {
        "colab": {
          "base_uri": "https://localhost:8080/"
        },
        "id": "PJh75sV4Veve",
        "outputId": "9b73d221-3143-440a-df3c-cfdc31db89e8"
      },
      "source": [
        "interpreter.resize_tensor_input(input_details[0]['index'], (10000, 28, 28))\n",
        "interpreter.resize_tensor_input(output_details[0]['index'], (10000, 10))\n",
        "interpreter.allocate_tensors()\n",
        "input_details = interpreter.get_input_details()\n",
        "output_details = interpreter.get_output_details()\n",
        "print(\"Input Shape:\", input_details[0]['shape'])\n",
        "print(\"Input Type:\", input_details[0]['dtype'])\n",
        "print(\"Output Shape:\", output_details[0]['shape'])\n",
        "print(\"Output Type:\", output_details[0]['dtype'])"
      ],
      "execution_count": 18,
      "outputs": [
        {
          "output_type": "stream",
          "text": [
            "Input Shape: [10000    28    28]\n",
            "Input Type: <class 'numpy.float32'>\n",
            "Output Shape: [10000    10]\n",
            "Output Type: <class 'numpy.float32'>\n"
          ],
          "name": "stdout"
        }
      ]
    },
    {
      "cell_type": "code",
      "metadata": {
        "id": "FTuqlsO0Vig1"
      },
      "source": [
        "test_imgs_numpy = np.array(test_images, dtype=np.float32)"
      ],
      "execution_count": 19,
      "outputs": []
    },
    {
      "cell_type": "code",
      "metadata": {
        "colab": {
          "base_uri": "https://localhost:8080/"
        },
        "id": "vxtyr8znVpnu",
        "outputId": "825b6400-327f-4dc8-85c9-72f0bbf9c3c2"
      },
      "source": [
        "interpreter.set_tensor(input_details[0]['index'], test_imgs_numpy)\n",
        "interpreter.invoke()\n",
        "tflite_model_predictions = interpreter.get_tensor(output_details[0]['index'])\n",
        "print(\"Prediction results shape:\", tflite_model_predictions.shape)\n",
        "prediction_classes = np.argmax(tflite_model_predictions, axis=1)"
      ],
      "execution_count": 20,
      "outputs": [
        {
          "output_type": "stream",
          "text": [
            "Prediction results shape: (10000, 10)\n"
          ],
          "name": "stdout"
        }
      ]
    },
    {
      "cell_type": "code",
      "metadata": {
        "id": "KtEWLFx2VtGV"
      },
      "source": [
        "acc = accuracy_score(prediction_classes, test_labels)"
      ],
      "execution_count": 21,
      "outputs": []
    },
    {
      "cell_type": "code",
      "metadata": {
        "colab": {
          "base_uri": "https://localhost:8080/"
        },
        "id": "sh97sacDVwit",
        "outputId": "ccdbbb90-d0c1-4106-9d00-c3ba2f930cb9"
      },
      "source": [
        "\n",
        "\n",
        "print('Test accuracy TFLITE model :', acc)"
      ],
      "execution_count": 22,
      "outputs": [
        {
          "output_type": "stream",
          "text": [
            "Test accuracy TFLITE model : 0.8844\n"
          ],
          "name": "stdout"
        }
      ]
    }
  ]
}